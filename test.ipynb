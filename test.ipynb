{
 "cells": [
  {
   "cell_type": "code",
   "execution_count": 1,
   "metadata": {},
   "outputs": [],
   "source": [
    "from rdkit import Chem"
   ]
  },
  {
   "cell_type": "code",
   "execution_count": 2,
   "metadata": {},
   "outputs": [
    {
     "name": "stderr",
     "output_type": "stream",
     "text": [
      "RDKit ERROR: [15:11:01] SMARTS Parse Error: syntax error while parsing: [N:4]1=[C:3]-[N;H1:+0:7]-[C:6]=[C:5]1\n",
      "RDKit ERROR: [15:11:01] SMARTS Parse Error: Failed parsing SMARTS '[N:4]1=[C:3]-[N;H1:+0:7]-[C:6]=[C:5]1' for input: '[N:4]1=[C:3]-[N;H1:+0:7]-[C:6]=[C:5]1'\n",
      "[15:11:01] SMARTS Parse Error: syntax error while parsing: [N:4]1=[C:3]-[N;H1:+0:7]-[C:6]=[C:5]1\n",
      "[15:11:01] SMARTS Parse Error: Failed parsing SMARTS '[N:4]1=[C:3]-[N;H1:+0:7]-[C:6]=[C:5]1' for input: '[N:4]1=[C:3]-[N;H1:+0:7]-[C:6]=[C:5]1'\n"
     ]
    },
    {
     "ename": "AttributeError",
     "evalue": "'NoneType' object has no attribute 'UpdatePropertyCache'",
     "output_type": "error",
     "traceback": [
      "\u001b[0;31m---------------------------------------------------------------------------\u001b[0m",
      "\u001b[0;31mAttributeError\u001b[0m                            Traceback (most recent call last)",
      "Cell \u001b[0;32mIn[2], line 3\u001b[0m\n\u001b[1;32m      1\u001b[0m exclude_reagent \u001b[38;5;241m=\u001b[39m \u001b[38;5;124m'\u001b[39m\u001b[38;5;124m[N:4]1=[C:3]-[N;H1:+0:7]-[C:6]=[C:5]1\u001b[39m\u001b[38;5;124m'\u001b[39m\n\u001b[1;32m      2\u001b[0m exclude_mol \u001b[38;5;241m=\u001b[39m Chem\u001b[38;5;241m.\u001b[39mMolFromSmarts(exclude_reagent) \n\u001b[0;32m----> 3\u001b[0m \u001b[43mexclude_mol\u001b[49m\u001b[38;5;241;43m.\u001b[39;49m\u001b[43mUpdatePropertyCache\u001b[49m(strict\u001b[38;5;241m=\u001b[39m\u001b[38;5;28;01mFalse\u001b[39;00m)\n\u001b[1;32m      4\u001b[0m exclude_mol\n",
      "\u001b[0;31mAttributeError\u001b[0m: 'NoneType' object has no attribute 'UpdatePropertyCache'"
     ]
    }
   ],
   "source": [
    "exclude_reagent = '[N:4]1=[C:3]-[N;H1:+0:7]-[C:6]=[C:5]1'\n",
    "exclude_mol = Chem.MolFromSmarts(exclude_reagent) \n",
    "exclude_mol.UpdatePropertyCache(strict=False)\n",
    "exclude_mol"
   ]
  },
  {
   "cell_type": "code",
   "execution_count": 10,
   "metadata": {},
   "outputs": [
    {
     "data": {
      "image/png": "[encoded data removed]",
      "text/plain": [
       "<rdkit.Chem.rdchem.Mol at 0x74286be58520>"
      ]
     },
     "execution_count": 10,
     "metadata": {},
     "output_type": "execute_result"
    }
   ],
   "source": [
    "rsmi = 'C1=CC=NC=C1'\n",
    "rmol = Chem.MolFromSmiles(rsmi)\n",
    "rmol.UpdatePropertyCache(strict=False)\n",
    "rmol"
   ]
  },
  {
   "cell_type": "code",
   "execution_count": 11,
   "metadata": {},
   "outputs": [
    {
     "data": {
      "text/plain": [
       "(2, 1, 0, 5, 4, 3)"
      ]
     },
     "execution_count": 11,
     "metadata": {},
     "output_type": "execute_result"
    }
   ],
   "source": [
    "rmol.GetSubstructMatch(exclude_mol)"
   ]
  },
  {
   "cell_type": "code",
   "execution_count": 3,
   "metadata": {},
   "outputs": [],
   "source": [
    "from utils.template_process2 import remove_atom_map\n",
    "hsmi = '[F:1][C:2]1=[CH:12][C:8]([CH2:9][C:10]#[N:11])=[C:5]([O:6][CH3:7])[CH:4]=[CH:3]1.[Al+3].[Al+3].[Cl-].[Cl-].[Cl-].[H-].[H-].[H-].[H-].[Li+].[Na+].[OH-].C2COCC2'\n",
    "hmol = Chem.MolFromSmiles(hsmi, sanitize=False)\n",
    "hmol = remove_atom_map(hmol)"
   ]
  },
  {
   "cell_type": "code",
   "execution_count": 5,
   "metadata": {},
   "outputs": [],
   "source": [
    "hmol.UpdatePropertyCache(strict=False)\n",
    "hmol = Chem.AddHs(hmol, explicitOnly=False)"
   ]
  },
  {
   "cell_type": "code",
   "execution_count": null,
   "metadata": {},
   "outputs": [],
   "source": []
  }
 ],
 "metadata": {
  "kernelspec": {
   "display_name": "mechdata",
   "language": "python",
   "name": "python3"
  },
  "language_info": {
   "codemirror_mode": {
    "name": "ipython",
    "version": 3
   },
   "file_extension": ".py",
   "mimetype": "text/x-python",
   "name": "python",
   "nbconvert_exporter": "python",
   "pygments_lexer": "ipython3",
   "version": "3.8.18"
  }
 },
 "nbformat": 4,
 "nbformat_minor": 2
}
