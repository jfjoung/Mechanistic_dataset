{
 "cells": [
  {
   "cell_type": "code",
   "execution_count": 1,
   "metadata": {},
   "outputs": [],
   "source": [
    "from utils import molecule_process, reaction_process, template_process, elementary_reactions\n",
    "from scripts import generate_mech_data, setting\n",
    "args = setting.Args()"
   ]
  },
  {
   "cell_type": "code",
   "execution_count": 2,
   "metadata": {},
   "outputs": [],
   "source": [
    "line = '[B:34]([Cl:35])([Cl:36])[Cl:37].[C:46](=[O:47])([O-:48])[OH:49].[CH3:38][CH2:39][CH2:40][CH2:41][CH2:42][CH3:43].[CH3:44][OH:45].[Na+:50].[O:1]([CH2:2][C:3]1=[N:26][N:25]=[C:12]([c:13]2[cH:14][cH:15][c:16](-[c:17]3[cH:18][cH:19][cH:20][cH:21][cH:22]3)[cH:23][cH:24]2)[N:4]1[c:5]1[cH:6][cH:7][cH:8][cH:9][c:10]1[F:11])[CH2:27][c:28]1[cH:29][cH:30][cH:31][cH:32][cH:33]1>[CH:51]([Cl:52])([Cl:53])[Cl:54]>[OH:1][CH2:2][C:3]1=[N:26][N:25]=[C:12]([c:13]2[cH:14][cH:15][c:16](-[c:17]3[cH:18][cH:19][cH:20][cH:21][cH:22]3)[cH:23][cH:24]2)[N:4]1[c:5]1[cH:6][cH:7][cH:8][cH:9][c:10]1[F:11] O-Bn deprotection'\n"
   ]
  },
  {
   "cell_type": "code",
   "execution_count": 3,
   "metadata": {},
   "outputs": [
    {
     "data": {
      "text/plain": [
       "{'reaction_name': 'O-Bn deprotection',\n",
       " 'reaction_smiles': '[B:34]([Cl:35])([Cl:36])[Cl:37].[C:46](=[O:47])([O-:48])[OH:49].[CH3:38][CH2:39][CH2:40][CH2:41][CH2:42][CH3:43].[CH3:44][OH:45].[Na+:50].[O:1]([CH2:2][C:3]1=[N:26][N:25]=[C:12]([c:13]2[cH:14][cH:15][c:16](-[c:17]3[cH:18][cH:19][cH:20][cH:21][cH:22]3)[cH:23][cH:24]2)[N:4]1[c:5]1[cH:6][cH:7][cH:8][cH:9][c:10]1[F:11])[CH2:27][c:28]1[cH:29][cH:30][cH:31][cH:32][cH:33]1>[CH:51]([Cl:52])([Cl:53])[Cl:54]>[OH:1][CH2:2][C:3]1=[N:26][N:25]=[C:12]([c:13]2[cH:14][cH:15][c:16](-[c:17]3[cH:18][cH:19][cH:20][cH:21][cH:22]3)[cH:23][cH:24]2)[N:4]1[c:5]1[cH:6][cH:7][cH:8][cH:9][c:10]1[F:11]',\n",
       " 'conditions': ['Deprotection using BBr3']}"
      ]
     },
     "execution_count": 3,
     "metadata": {},
     "output_type": "execute_result"
    }
   ],
   "source": [
    "rxn = line.split()[0]\n",
    "if len(line.split()[1:]) == 1:\n",
    "    label = line.split()[-1]\n",
    "else:\n",
    "    label = ' '.join(line.split()[1:])\n",
    "\n",
    "rxn_dict = {'reaction_name': label,\n",
    "                'reaction_smiles': rxn, }\n",
    "\n",
    "# Finding the reaction templates based on the label\n",
    "rxn_dict = generate_mech_data.reagent_matching_for_single_reaction(rxn_dict, label)\n",
    "rxn_dict"
   ]
  },
  {
   "cell_type": "code",
   "execution_count": 4,
   "metadata": {},
   "outputs": [
    {
     "data": {
      "text/plain": [
       "[{'Reagent': ['[Cl,Br]-[B]', '[#8]-[C]-[c]'],\n",
       "  'Exclude_reagent': None,\n",
       "  'Stages': {0: {'Templates': ['[C:5]-[O;D2;H0;+0:1]-[C:2].[Cl,Br:3][B:4]>>[C:2]-[O;H0;+1:1](-[C:5])-[B;-1:4]([Cl,Br:3])'],\n",
       "    'pKa': [None],\n",
       "    'Description': 'BBr3 addition'},\n",
       "   1: {'Templates': ['[C:2]-[O;H0;+1:1]-[B;-1:4][Cl,Br:3]>>[C:2]-[O;H0;+1:1]-[B;+0:4].[Cl,Br;-1:3]'],\n",
       "    'pKa': [None],\n",
       "    'Description': 'Halide leaving'},\n",
       "   2: {'Templates': ['[c;H1:10]1[c;H1:9][c;H1:8][c;H1:7][c;H1:6][c;H0:5]1-[C:2]-[O;H0;+1:1]-[B;+0:4].[Cl,Br;-1:3]>>[O;D2;H0;+0:1]-[B;+0:4].[c;H1:10]1[c;H1:9][c;H1:8][c;H1:7][c;H1:6][c;H0:5]1-[C:2]-[Cl,Br;+0:3]'],\n",
       "    'pKa': [None],\n",
       "    'Description': 'SN2 type alkyl halide leaving'},\n",
       "   3: {'Templates': ['[O;H0;+0:1]-[B;+0:4].[O;H2;+0:6]>>[O;H0;-1:1].[O;H2;+1:6]-[B;+0:4]',\n",
       "     '[O;H0;+0:1]-[B;+0:4].[O;H1;+0:6]-[C:7]>>[O;H0;-1:1].[C:7]-[O;H1;+1:6]-[B;+0:4]',\n",
       "     '[O;H0;+0:1]-[B;+0:4].[O;H0;-1:6]-[C:7]>>[O;H0;-1:1].[C:7]-[O;H0;+0:6]-[B;+0:4]'],\n",
       "    'pKa': [None, None],\n",
       "    'Description': 'Addition of water'},\n",
       "   4: {'Templates': ['[O;H2;+1:6]-[B;+0:4]>>[O;H1;+0:6]-[B;+0:4]',\n",
       "     '[C:7]-[O;H1;+1:6]-[B;+0:4]>>[C:7]-[O;H0;+0:6]-[B;+0:4]'],\n",
       "    'pKa': [{'B': -1.7}, {'B': -1.7}],\n",
       "    'Description': 'Proton exchange'}}}]"
      ]
     },
     "execution_count": 4,
     "metadata": {},
     "output_type": "execute_result"
    }
   ],
   "source": [
    "# Getting reaction templates for each assigned conditions \n",
    "conditions = generate_mech_data.calling_rxn_template(rxn_dict)\n",
    "conditions"
   ]
  },
  {
   "cell_type": "code",
   "execution_count": 5,
   "metadata": {},
   "outputs": [
    {
     "name": "stdout",
     "output_type": "stream",
     "text": [
      "The O-Bn deprotection reaction network under the Deprotection using BBr3 condition \n",
      "\n",
      "Nodes of the graph:\n",
      "0: [B:1]([Cl:2])([Cl:3])[Cl:4]\n",
      "1: [C:5](=[O:6])([O-:7])[OH:8]\n",
      "2: [CH3:9][CH2:10][CH2:11][CH2:12][CH2:13][CH3:14]\n",
      "3: [CH3:15][OH:16]\n",
      "4: [Na+:17]\n",
      "5: [O:18]([CH2:19][c:20]1[n:21][n:22][c:23](-[c:24]2[cH:25][cH:26][c:27](-[c:28]3[cH:29][cH:30][cH:31][cH:32][cH:33]3)[cH:34][cH:35]2)[n:36]1-[c:37]1[cH:38][cH:39][cH:40][cH:41][c:42]1[F:43])[CH2:44][c:45]1[cH:46][cH:47][cH:48][cH:49][cH:50]1\n",
      "6: [CH:51]([Cl:52])([Cl:53])[Cl:54]\n",
      "\n",
      "Edges of the graph:\n"
     ]
    }
   ],
   "source": [
    "# Set reaction network\n",
    "cond = conditions[0]\n",
    "reaction = reaction_process.Reaction_Network(rxn_dict, 0, args)\n",
    "print(reaction, '\\n')\n",
    "\n",
    "# Initial chemicals are stored in the network\n",
    "reaction.print_graph()"
   ]
  },
  {
   "cell_type": "code",
   "execution_count": 6,
   "metadata": {},
   "outputs": [
    {
     "name": "stdout",
     "output_type": "stream",
     "text": [
      "This reaction is 5 steps\n",
      "Nodes of the graph:\n",
      "0: [B:1]([Cl:2])([Cl:3])[Cl:4]\n",
      "1: [C:5](=[O:6])([O-:7])[OH:8]\n",
      "2: [CH3:9][CH2:10][CH2:11][CH2:12][CH2:13][CH3:14]\n",
      "3: [CH3:15][OH:16]\n",
      "4: [Na+:17]\n",
      "5: [O:18]([CH2:19][c:20]1[n:21][n:22][c:23](-[c:24]2[cH:25][cH:26][c:27](-[c:28]3[cH:29][cH:30][cH:31][cH:32][cH:33]3)[cH:34][cH:35]2)[n:36]1-[c:37]1[cH:38][cH:39][cH:40][cH:41][c:42]1[F:43])[CH2:44][c:45]1[cH:46][cH:47][cH:48][cH:49][cH:50]1\n",
      "6: [CH:51]([Cl:52])([Cl:53])[Cl:54]\n",
      "7: [B-:1]([Cl:2])([Cl:3])([Cl:4])[O+:18]([CH2:19][c:20]1[n:21][n:22][c:23](-[c:24]2[cH:25][cH:26][c:27](-[c:28]3[cH:29][cH:30][cH:31][cH:32][cH:33]3)[cH:34][cH:35]2)[n:36]1-[c:37]1[cH:38][cH:39][cH:40][cH:41][c:42]1[F:43])[CH2:44][c:45]1[cH:46][cH:47][cH:48][cH:49][cH:50]1\n",
      "rxn 0: BBr3 addition\n",
      "\n",
      "Edges of the graph:\n",
      "(0, 'rxn 0', {})\n",
      "(5, 'rxn 0', {})\n",
      "('rxn 0', 7, {})\n"
     ]
    }
   ],
   "source": [
    "reaction.set_template_dict(cond)\n",
    "\n",
    "# Templates are sequentially applied to the chemicals in the network\n",
    "print(f'This reaction is {reaction.length} steps')\n",
    "\n",
    "# 1st step reaction\n",
    "reaction.run_reaction(0)\n",
    "\n",
    "reaction.print_graph()"
   ]
  },
  {
   "cell_type": "code",
   "execution_count": 7,
   "metadata": {},
   "outputs": [
    {
     "name": "stdout",
     "output_type": "stream",
     "text": [
      "Nodes of the graph:\n",
      "0: [B:1]([Cl:2])([Cl:3])[Cl:4]\n",
      "1: [C:5](=[O:6])([O-:7])[OH:8]\n",
      "2: [CH3:9][CH2:10][CH2:11][CH2:12][CH2:13][CH3:14]\n",
      "3: [CH3:15][OH:16]\n",
      "4: [Na+:17]\n",
      "5: [O:18]([CH2:19][c:20]1[n:21][n:22][c:23](-[c:24]2[cH:25][cH:26][c:27](-[c:28]3[cH:29][cH:30][cH:31][cH:32][cH:33]3)[cH:34][cH:35]2)[n:36]1-[c:37]1[cH:38][cH:39][cH:40][cH:41][c:42]1[F:43])[CH2:44][c:45]1[cH:46][cH:47][cH:48][cH:49][cH:50]1\n",
      "6: [CH:51]([Cl:52])([Cl:53])[Cl:54]\n",
      "7: [B-:1]([Cl:2])([Cl:3])([Cl:4])[O+:18]([CH2:19][c:20]1[n:21][n:22][c:23](-[c:24]2[cH:25][cH:26][c:27](-[c:28]3[cH:29][cH:30][cH:31][cH:32][cH:33]3)[cH:34][cH:35]2)[n:36]1-[c:37]1[cH:38][cH:39][cH:40][cH:41][c:42]1[F:43])[CH2:44][c:45]1[cH:46][cH:47][cH:48][cH:49][cH:50]1\n",
      "rxn 0: BBr3 addition\n",
      "8: [B:1]([Cl:3])([Cl:4])[O+:18]([CH2:19][c:20]1[n:21][n:22][c:23](-[c:24]2[cH:25][cH:26][c:27](-[c:28]3[cH:29][cH:30][cH:31][cH:32][cH:33]3)[cH:34][cH:35]2)[n:36]1-[c:37]1[cH:38][cH:39][cH:40][cH:41][c:42]1[F:43])[CH2:44][c:45]1[cH:46][cH:47][cH:48][cH:49][cH:50]1\n",
      "9: [Cl-:2]\n",
      "rxn 1: Halide leaving\n",
      "\n",
      "Edges of the graph:\n",
      "(0, 'rxn 0', {})\n",
      "(5, 'rxn 0', {})\n",
      "(7, 'rxn 1', {})\n",
      "('rxn 0', 7, {})\n",
      "('rxn 1', 8, {})\n",
      "('rxn 1', 9, {})\n"
     ]
    }
   ],
   "source": [
    "# 2nd reaction\n",
    "reaction.run_reaction(1)\n",
    "\n",
    "reaction.print_graph()"
   ]
  },
  {
   "cell_type": "code",
   "execution_count": 8,
   "metadata": {},
   "outputs": [
    {
     "name": "stdout",
     "output_type": "stream",
     "text": [
      "Nodes of the graph:\n",
      "0: [B:1]([Cl:2])([Cl:3])[Cl:4]\n",
      "1: [C:5](=[O:6])([O-:7])[OH:8]\n",
      "2: [CH3:9][CH2:10][CH2:11][CH2:12][CH2:13][CH3:14]\n",
      "3: [CH3:15][OH:16]\n",
      "4: [Na+:17]\n",
      "5: [O:18]([CH2:19][c:20]1[n:21][n:22][c:23](-[c:24]2[cH:25][cH:26][c:27](-[c:28]3[cH:29][cH:30][cH:31][cH:32][cH:33]3)[cH:34][cH:35]2)[n:36]1-[c:37]1[cH:38][cH:39][cH:40][cH:41][c:42]1[F:43])[CH2:44][c:45]1[cH:46][cH:47][cH:48][cH:49][cH:50]1\n",
      "6: [CH:51]([Cl:52])([Cl:53])[Cl:54]\n",
      "7: [B-:1]([Cl:2])([Cl:3])([Cl:4])[O+:18]([CH2:19][c:20]1[n:21][n:22][c:23](-[c:24]2[cH:25][cH:26][c:27](-[c:28]3[cH:29][cH:30][cH:31][cH:32][cH:33]3)[cH:34][cH:35]2)[n:36]1-[c:37]1[cH:38][cH:39][cH:40][cH:41][c:42]1[F:43])[CH2:44][c:45]1[cH:46][cH:47][cH:48][cH:49][cH:50]1\n",
      "rxn 0: BBr3 addition\n",
      "8: [B:1]([Cl:3])([Cl:4])[O+:18]([CH2:19][c:20]1[n:21][n:22][c:23](-[c:24]2[cH:25][cH:26][c:27](-[c:28]3[cH:29][cH:30][cH:31][cH:32][cH:33]3)[cH:34][cH:35]2)[n:36]1-[c:37]1[cH:38][cH:39][cH:40][cH:41][c:42]1[F:43])[CH2:44][c:45]1[cH:46][cH:47][cH:48][cH:49][cH:50]1\n",
      "9: [Cl-:2]\n",
      "rxn 1: Halide leaving\n",
      "10: [B:1]([Cl:3])([Cl:4])[O:18][CH2:19][c:20]1[n:21][n:22][c:23](-[c:24]2[cH:25][cH:26][c:27](-[c:28]3[cH:29][cH:30][cH:31][cH:32][cH:33]3)[cH:34][cH:35]2)[n:36]1-[c:37]1[cH:38][cH:39][cH:40][cH:41][c:42]1[F:43]\n",
      "11: [Cl:2][CH2:44][c:45]1[cH:46][cH:47][cH:48][cH:49][cH:50]1\n",
      "rxn 2: SN2 type alkyl halide leaving\n",
      "12: [O-:18][CH2:19][c:20]1[n:21][n:22][c:23](-[c:24]2[cH:25][cH:26][c:27](-[c:28]3[cH:29][cH:30][cH:31][cH:32][cH:33]3)[cH:34][cH:35]2)[n:36]1-[c:37]1[cH:38][cH:39][cH:40][cH:41][c:42]1[F:43]\n",
      "13: [B:1]([Cl:3])([Cl:4])[OH+:8][C:5](=[O:6])[O-:7]\n",
      "rxn 3: Addition of water\n",
      "14: [B:1]([Cl:3])([Cl:4])[OH+:16][CH3:15]\n",
      "rxn 4: Addition of water\n",
      "15: [B:1]([Cl:3])([Cl:4])[O:7][C:5](=[O:6])[OH:8]\n",
      "rxn 5: Addition of water\n",
      "16: [B:1]([Cl:3])([Cl:4])[O:8][C:5](=[O:6])[O-:7]\n",
      "17: [OH:18][CH2:19][c:20]1[n:21][n:22][c:23](-[c:24]2[cH:25][cH:26][c:27](-[c:28]3[cH:29][cH:30][cH:31][cH:32][cH:33]3)[cH:34][cH:35]2)[n:36]1-[c:37]1[cH:38][cH:39][cH:40][cH:41][c:42]1[F:43]\n",
      "rxn 6: Proton exchange\n",
      "18: [B:1]([Cl:3])([Cl:4])[O:16][CH3:15]\n",
      "rxn 7: Proton exchange\n",
      "19: [C:5](=[O:6])([OH:7])[OH:8]\n",
      "rxn 8: Proton exchange\n",
      "\n",
      "Edges of the graph:\n",
      "(0, 'rxn 0', {})\n",
      "(1, 'rxn 3', {})\n",
      "(1, 'rxn 5', {})\n",
      "(1, 'rxn 8', {})\n",
      "(3, 'rxn 4', {})\n",
      "(5, 'rxn 0', {})\n",
      "(7, 'rxn 1', {})\n",
      "('rxn 0', 7, {})\n",
      "(8, 'rxn 2', {})\n",
      "(9, 'rxn 2', {})\n",
      "('rxn 1', 8, {})\n",
      "('rxn 1', 9, {})\n",
      "(10, 'rxn 3', {})\n",
      "(10, 'rxn 4', {})\n",
      "(10, 'rxn 5', {})\n",
      "('rxn 2', 10, {})\n",
      "('rxn 2', 11, {})\n",
      "(12, 'rxn 6', {})\n",
      "(12, 'rxn 7', {})\n",
      "(13, 'rxn 6', {})\n",
      "('rxn 3', 12, {})\n",
      "('rxn 3', 13, {})\n",
      "(14, 'rxn 7', {})\n",
      "(14, 'rxn 8', {})\n",
      "('rxn 4', 12, {})\n",
      "('rxn 4', 14, {})\n",
      "('rxn 5', 12, {})\n",
      "('rxn 5', 15, {})\n",
      "('rxn 6', 16, {})\n",
      "('rxn 6', 17, {})\n",
      "('rxn 7', 18, {})\n",
      "('rxn 7', 17, {})\n",
      "('rxn 8', 18, {})\n",
      "('rxn 8', 19, {})\n"
     ]
    }
   ],
   "source": [
    "for step in range(2,5):\n",
    "    reaction.run_reaction(step)\n",
    "reaction.print_graph()"
   ]
  },
  {
   "cell_type": "code",
   "execution_count": 9,
   "metadata": {},
   "outputs": [
    {
     "data": {
      "text/plain": [
       "True"
      ]
     },
     "execution_count": 9,
     "metadata": {},
     "output_type": "execute_result"
    }
   ],
   "source": [
    "# Check if the product is formed\n",
    "\n",
    "reaction.is_product_formed()"
   ]
  },
  {
   "cell_type": "code",
   "execution_count": 10,
   "metadata": {},
   "outputs": [],
   "source": [
    "elem_reactions = elementary_reactions.Get_Reactions(reaction)"
   ]
  },
  {
   "cell_type": "code",
   "execution_count": 11,
   "metadata": {},
   "outputs": [
    {
     "name": "stdout",
     "output_type": "stream",
     "text": [
      "Reactants:  [0, 1, 3, 5]\n",
      "Product:  [17]\n",
      "Intermediates:  [7, 8, 9, 10, 12, 13, 14]\n",
      "Byproducts:  [11, 15, 16, 18, 19]\n",
      "Spectators:  [2, 4, 6]\n",
      "Reaction:  ['rxn 0', 'rxn 1', 'rxn 2', 'rxn 3', 'rxn 4', 'rxn 5', 'rxn 6', 'rxn 7', 'rxn 8']\n"
     ]
    }
   ],
   "source": [
    "# the role of all chemical species is assigned\n",
    "print('Reactants: ', elem_reactions.reactant_node)\n",
    "print('Product: ',elem_reactions.product_node)\n",
    "print('Intermediates: ',elem_reactions.intermediate_node)\n",
    "print('Byproducts: ',elem_reactions.byproduct_node)\n",
    "print('Spectators: ',elem_reactions.spectator_node)\n",
    "print('Reaction: ',elem_reactions.reaction_node)\n",
    "#"
   ]
  },
  {
   "cell_type": "code",
   "execution_count": 12,
   "metadata": {},
   "outputs": [
    {
     "name": "stdout",
     "output_type": "stream",
     "text": [
      "Reactants:  [0, 1, 3, 5]\n",
      "Product:  [17]\n",
      "Intermediates:  [7, 8, 9, 10, 12, 13, 14]\n",
      "Byproducts:  [11, 15, 16, 18]\n",
      "Spectators:  [2, 4, 6]\n",
      "Reaction:  ['rxn 0', 'rxn 1', 'rxn 2', 'rxn 3', 'rxn 4', 'rxn 5', 'rxn 6', 'rxn 7']\n"
     ]
    }
   ],
   "source": [
    "# Reaction network is pruned \n",
    "# to filter out unseccessful pathways\n",
    "\n",
    "elem_reactions.graph_pruning()\n",
    "\n",
    "print('Reactants: ', elem_reactions.reactant_node)\n",
    "print('Product: ',elem_reactions.product_node)\n",
    "print('Intermediates: ',elem_reactions.intermediate_node)\n",
    "print('Byproducts: ',elem_reactions.byproduct_node)\n",
    "print('Spectators: ',elem_reactions.spectator_node)\n",
    "print('Reaction: ',elem_reactions.reaction_node)"
   ]
  },
  {
   "cell_type": "code",
   "execution_count": 13,
   "metadata": {},
   "outputs": [
    {
     "data": {
      "text/plain": [
       "{0: {'rxn 0': {'reactants': [0, 5],\n",
       "   'products': [7],\n",
       "   'not used reactants': {1, 3},\n",
       "   'byproducts': [],\n",
       "   'spectators': [2, 4, 6]},\n",
       "  'rxn 1': {'reactants': [7],\n",
       "   'products': [8, 9],\n",
       "   'not used reactants': {1, 3},\n",
       "   'byproducts': [],\n",
       "   'spectators': [2, 4, 6]},\n",
       "  'rxn 2': {'reactants': [8, 9],\n",
       "   'products': [10, 11],\n",
       "   'not used reactants': {1, 3},\n",
       "   'byproducts': [],\n",
       "   'spectators': [2, 4, 6]},\n",
       "  'rxn 3': {'reactants': [1, 10],\n",
       "   'products': [12, 13],\n",
       "   'not used reactants': {3},\n",
       "   'byproducts': [11],\n",
       "   'spectators': [2, 4, 6]},\n",
       "  'rxn 4': {'reactants': [3, 10],\n",
       "   'products': [12, 14],\n",
       "   'not used reactants': {1},\n",
       "   'byproducts': [11],\n",
       "   'spectators': [2, 4, 6]},\n",
       "  'rxn 5': {'reactants': [1, 10],\n",
       "   'products': [12, 15],\n",
       "   'not used reactants': {3},\n",
       "   'byproducts': [11],\n",
       "   'spectators': [2, 4, 6]},\n",
       "  'rxn 6': {'reactants': [12, 13],\n",
       "   'products': [16, 17],\n",
       "   'not used reactants': set(),\n",
       "   'byproducts': [11],\n",
       "   'spectators': [2, 4, 6]},\n",
       "  'end rxn': {'reactants': [16, 17],\n",
       "   'products': [16, 17],\n",
       "   'not used reactants': set(),\n",
       "   'byproducts': [11],\n",
       "   'spectators': [2, 4, 6]},\n",
       "  'rxn 7': {'reactants': [12, 14],\n",
       "   'products': [18, 17],\n",
       "   'not used reactants': set(),\n",
       "   'byproducts': [11],\n",
       "   'spectators': [2, 4, 6]}}}"
      ]
     },
     "execution_count": 13,
     "metadata": {},
     "output_type": "execute_result"
    }
   ],
   "source": [
    "# The information of each elementary steps\n",
    "elem_reactions.get_elementary_reactions_info()\n",
    "elem_reactions.reaction_info"
   ]
  },
  {
   "cell_type": "code",
   "execution_count": 14,
   "metadata": {},
   "outputs": [
    {
     "data": {
      "text/plain": [
       "['[B:1]([Cl:2])([Cl:3])[Cl:4].[C:5](=[O:6])([O-:7])[OH:8].[CH3:15][OH:16].[CH3:9][CH2:10][CH2:11][CH2:12][CH2:13][CH3:14].[CH:51]([Cl:52])([Cl:53])[Cl:54].[Na+:17].[O:18]([CH2:19][c:20]1[n:21][n:22][c:23](-[c:24]2[cH:25][cH:26][c:27](-[c:28]3[cH:29][cH:30][cH:31][cH:32][cH:33]3)[cH:34][cH:35]2)[n:36]1-[c:37]1[cH:38][cH:39][cH:40][cH:41][c:42]1[F:43])[CH2:44][c:45]1[cH:46][cH:47][cH:48][cH:49][cH:50]1>>[B-:1]([Cl:2])([Cl:3])([Cl:4])[O+:18]([CH2:19][c:20]1[n:21][n:22][c:23](-[c:24]2[cH:25][cH:26][c:27](-[c:28]3[cH:29][cH:30][cH:31][cH:32][cH:33]3)[cH:34][cH:35]2)[n:36]1-[c:37]1[cH:38][cH:39][cH:40][cH:41][c:42]1[F:43])[CH2:44][c:45]1[cH:46][cH:47][cH:48][cH:49][cH:50]1.[C:5](=[O:6])([O-:7])[OH:8].[CH3:15][OH:16].[CH3:9][CH2:10][CH2:11][CH2:12][CH2:13][CH3:14].[CH:51]([Cl:52])([Cl:53])[Cl:54].[Na+:17]',\n",
       " '[B-:18]([Cl:19])([Cl:20])([Cl:21])[O+:22]([CH2:23][c:24]1[n:25][n:26][c:27](-[c:28]2[cH:29][cH:30][c:31](-[c:32]3[cH:33][cH:34][cH:35][cH:36][cH:37]3)[cH:38][cH:39]2)[n:40]1-[c:41]1[cH:42][cH:43][cH:44][cH:45][c:46]1[F:47])[CH2:48][c:49]1[cH:50][cH:51][cH:52][cH:53][cH:54]1.[C:1](=[O:2])([O-:3])[OH:4].[CH3:11][OH:12].[CH3:5][CH2:6][CH2:7][CH2:8][CH2:9][CH3:10].[CH:14]([Cl:15])([Cl:16])[Cl:17].[Na+:13]>>[B:18]([Cl:20])([Cl:21])[O+:22]([CH2:23][c:24]1[n:25][n:26][c:27](-[c:28]2[cH:29][cH:30][c:31](-[c:32]3[cH:33][cH:34][cH:35][cH:36][cH:37]3)[cH:38][cH:39]2)[n:40]1-[c:41]1[cH:42][cH:43][cH:44][cH:45][c:46]1[F:47])[CH2:48][c:49]1[cH:50][cH:51][cH:52][cH:53][cH:54]1.[C:1](=[O:2])([O-:3])[OH:4].[CH3:11][OH:12].[CH3:5][CH2:6][CH2:7][CH2:8][CH2:9][CH3:10].[CH:14]([Cl:15])([Cl:16])[Cl:17].[Cl-:19].[Na+:13]',\n",
       " '[B:18]([Cl:19])([Cl:20])[O+:21]([CH2:22][c:23]1[n:24][n:25][c:26](-[c:27]2[cH:28][cH:29][c:30](-[c:31]3[cH:32][cH:33][cH:34][cH:35][cH:36]3)[cH:37][cH:38]2)[n:39]1-[c:40]1[cH:41][cH:42][cH:43][cH:44][c:45]1[F:46])[CH2:47][c:48]1[cH:49][cH:50][cH:51][cH:52][cH:53]1.[C:1](=[O:2])([O-:3])[OH:4].[CH3:11][OH:12].[CH3:5][CH2:6][CH2:7][CH2:8][CH2:9][CH3:10].[CH:14]([Cl:15])([Cl:16])[Cl:17].[Cl-:54].[Na+:13]>>[B:18]([Cl:19])([Cl:20])[O:21][CH2:22][c:23]1[n:24][n:25][c:26](-[c:27]2[cH:28][cH:29][c:30](-[c:31]3[cH:32][cH:33][cH:34][cH:35][cH:36]3)[cH:37][cH:38]2)[n:39]1-[c:40]1[cH:41][cH:42][cH:43][cH:44][c:45]1[F:46].[C:1](=[O:2])([O-:3])[OH:4].[CH2:47]([c:48]1[cH:49][cH:50][cH:51][cH:52][cH:53]1)[Cl:54].[CH3:11][OH:12].[CH3:5][CH2:6][CH2:7][CH2:8][CH2:9][CH3:10].[CH:14]([Cl:15])([Cl:16])[Cl:17].[Na+:13]',\n",
       " '[B:18]([Cl:19])([Cl:20])[O:21][CH2:22][c:23]1[n:24][n:25][c:26](-[c:27]2[cH:28][cH:29][c:30](-[c:31]3[cH:32][cH:33][cH:34][cH:35][cH:36]3)[cH:37][cH:38]2)[n:39]1-[c:40]1[cH:41][cH:42][cH:43][cH:44][c:45]1[F:46].[C:1](=[O:2])([O-:3])[OH:4].[CH3:11][OH:12].[CH3:5][CH2:6][CH2:7][CH2:8][CH2:9][CH3:10].[CH:14]([Cl:15])([Cl:16])[Cl:17].[Cl:47][CH2:48][c:49]1[cH:50][cH:51][cH:52][cH:53][cH:54]1.[Na+:13]>>[C:1](=[O:2])([O-:3])[OH+:4][B:18]([Cl:19])[Cl:20].[CH3:11][OH:12].[CH3:5][CH2:6][CH2:7][CH2:8][CH2:9][CH3:10].[CH:14]([Cl:15])([Cl:16])[Cl:17].[Cl:47][CH2:48][c:49]1[cH:50][cH:51][cH:52][cH:53][cH:54]1.[Na+:13].[O-:21][CH2:22][c:23]1[n:24][n:25][c:26](-[c:27]2[cH:28][cH:29][c:30](-[c:31]3[cH:32][cH:33][cH:34][cH:35][cH:36]3)[cH:37][cH:38]2)[n:39]1-[c:40]1[cH:41][cH:42][cH:43][cH:44][c:45]1[F:46]',\n",
       " '[B:18]([Cl:19])([Cl:20])[O:21][CH2:22][c:23]1[n:24][n:25][c:26](-[c:27]2[cH:28][cH:29][c:30](-[c:31]3[cH:32][cH:33][cH:34][cH:35][cH:36]3)[cH:37][cH:38]2)[n:39]1-[c:40]1[cH:41][cH:42][cH:43][cH:44][c:45]1[F:46].[C:1](=[O:2])([O-:3])[OH:4].[CH3:11][OH:12].[CH3:5][CH2:6][CH2:7][CH2:8][CH2:9][CH3:10].[CH:14]([Cl:15])([Cl:16])[Cl:17].[Cl:47][CH2:48][c:49]1[cH:50][cH:51][cH:52][cH:53][cH:54]1.[Na+:13]>>[C:1](=[O:2])([O-:3])[OH:4].[CH3:11][OH+:12][B:18]([Cl:19])[Cl:20].[CH3:5][CH2:6][CH2:7][CH2:8][CH2:9][CH3:10].[CH:14]([Cl:15])([Cl:16])[Cl:17].[Cl:47][CH2:48][c:49]1[cH:50][cH:51][cH:52][cH:53][cH:54]1.[Na+:13].[O-:21][CH2:22][c:23]1[n:24][n:25][c:26](-[c:27]2[cH:28][cH:29][c:30](-[c:31]3[cH:32][cH:33][cH:34][cH:35][cH:36]3)[cH:37][cH:38]2)[n:39]1-[c:40]1[cH:41][cH:42][cH:43][cH:44][c:45]1[F:46]',\n",
       " '[B:18]([Cl:19])([Cl:20])[O:21][CH2:22][c:23]1[n:24][n:25][c:26](-[c:27]2[cH:28][cH:29][c:30](-[c:31]3[cH:32][cH:33][cH:34][cH:35][cH:36]3)[cH:37][cH:38]2)[n:39]1-[c:40]1[cH:41][cH:42][cH:43][cH:44][c:45]1[F:46].[C:1](=[O:2])([O-:3])[OH:4].[CH3:11][OH:12].[CH3:5][CH2:6][CH2:7][CH2:8][CH2:9][CH3:10].[CH:14]([Cl:15])([Cl:16])[Cl:17].[Cl:47][CH2:48][c:49]1[cH:50][cH:51][cH:52][cH:53][cH:54]1.[Na+:13]>>[C:1](=[O:2])([O:3][B:18]([Cl:19])[Cl:20])[OH:4].[CH3:11][OH:12].[CH3:5][CH2:6][CH2:7][CH2:8][CH2:9][CH3:10].[CH:14]([Cl:15])([Cl:16])[Cl:17].[Cl:47][CH2:48][c:49]1[cH:50][cH:51][cH:52][cH:53][cH:54]1.[Na+:13].[O-:21][CH2:22][c:23]1[n:24][n:25][c:26](-[c:27]2[cH:28][cH:29][c:30](-[c:31]3[cH:32][cH:33][cH:34][cH:35][cH:36]3)[cH:37][cH:38]2)[n:39]1-[c:40]1[cH:41][cH:42][cH:43][cH:44][c:45]1[F:46]',\n",
       " '[B:46]([Cl:47])([Cl:48])[OH+:49][C:50](=[O:51])[O-:52].[CH3:1][CH2:2][CH2:3][CH2:4][CH2:5][CH3:6].[CH:8]([Cl:9])([Cl:10])[Cl:11].[Cl:12][CH2:13][c:14]1[cH:15][cH:16][cH:17][cH:18][cH:19]1.[Na+:7].[O-:20][CH2:21][c:22]1[n:23][n:24][c:25](-[c:26]2[cH:27][cH:28][c:29](-[c:30]3[cH:31][cH:32][cH:33][cH:34][cH:35]3)[cH:36][cH:37]2)[n:38]1-[c:39]1[cH:40][cH:41][cH:42][cH:43][c:44]1[F:45]>>[B:46]([Cl:47])([Cl:48])[O:49][C:50](=[O:51])[O-:52].[CH3:1][CH2:2][CH2:3][CH2:4][CH2:5][CH3:6].[CH:8]([Cl:9])([Cl:10])[Cl:11].[Cl:12][CH2:13][c:14]1[cH:15][cH:16][cH:17][cH:18][cH:19]1.[Na+:7].[OH:20][CH2:21][c:22]1[n:23][n:24][c:25](-[c:26]2[cH:27][cH:28][c:29](-[c:30]3[cH:31][cH:32][cH:33][cH:34][cH:35]3)[cH:36][cH:37]2)[n:38]1-[c:39]1[cH:40][cH:41][cH:42][cH:43][c:44]1[F:45]',\n",
       " '[B:20]([Cl:21])([Cl:22])[O:23][C:24](=[O:25])[O-:26].[CH3:1][CH2:2][CH2:3][CH2:4][CH2:5][CH3:6].[CH:8]([Cl:9])([Cl:10])[Cl:11].[Cl:12][CH2:13][c:14]1[cH:15][cH:16][cH:17][cH:18][cH:19]1.[Na+:7].[OH:27][CH2:28][c:29]1[n:30][n:31][c:32](-[c:33]2[cH:34][cH:35][c:36](-[c:37]3[cH:38][cH:39][cH:40][cH:41][cH:42]3)[cH:43][cH:44]2)[n:45]1-[c:46]1[cH:47][cH:48][cH:49][cH:50][c:51]1[F:52]>>[B:20]([Cl:21])([Cl:22])[O:23][C:24](=[O:25])[O-:26].[CH3:1][CH2:2][CH2:3][CH2:4][CH2:5][CH3:6].[CH:8]([Cl:9])([Cl:10])[Cl:11].[Cl:12][CH2:13][c:14]1[cH:15][cH:16][cH:17][cH:18][cH:19]1.[Na+:7].[OH:27][CH2:28][c:29]1[n:30][n:31][c:32](-[c:33]2[cH:34][cH:35][c:36](-[c:37]3[cH:38][cH:39][cH:40][cH:41][cH:42]3)[cH:43][cH:44]2)[n:45]1-[c:46]1[cH:47][cH:48][cH:49][cH:50][c:51]1[F:52]',\n",
       " '[B:46]([Cl:47])([Cl:48])[OH+:49][CH3:50].[CH3:1][CH2:2][CH2:3][CH2:4][CH2:5][CH3:6].[CH:8]([Cl:9])([Cl:10])[Cl:11].[Cl:12][CH2:13][c:14]1[cH:15][cH:16][cH:17][cH:18][cH:19]1.[Na+:7].[O-:20][CH2:21][c:22]1[n:23][n:24][c:25](-[c:26]2[cH:27][cH:28][c:29](-[c:30]3[cH:31][cH:32][cH:33][cH:34][cH:35]3)[cH:36][cH:37]2)[n:38]1-[c:39]1[cH:40][cH:41][cH:42][cH:43][c:44]1[F:45]>>[B:46]([Cl:47])([Cl:48])[O:49][CH3:50].[CH3:1][CH2:2][CH2:3][CH2:4][CH2:5][CH3:6].[CH:8]([Cl:9])([Cl:10])[Cl:11].[Cl:12][CH2:13][c:14]1[cH:15][cH:16][cH:17][cH:18][cH:19]1.[Na+:7].[OH:20][CH2:21][c:22]1[n:23][n:24][c:25](-[c:26]2[cH:27][cH:28][c:29](-[c:30]3[cH:31][cH:32][cH:33][cH:34][cH:35]3)[cH:36][cH:37]2)[n:38]1-[c:39]1[cH:40][cH:41][cH:42][cH:43][c:44]1[F:45]']"
      ]
     },
     "execution_count": 14,
     "metadata": {},
     "output_type": "execute_result"
    }
   ],
   "source": [
    "# Now they are converted to SMILES\n",
    "\n",
    "elem_reactions.convert_to_smiles()"
   ]
  },
  {
   "cell_type": "code",
   "execution_count": null,
   "metadata": {},
   "outputs": [],
   "source": []
  }
 ],
 "metadata": {
  "kernelspec": {
   "display_name": "mechdata",
   "language": "python",
   "name": "python3"
  },
  "language_info": {
   "codemirror_mode": {
    "name": "ipython",
    "version": 3
   },
   "file_extension": ".py",
   "mimetype": "text/x-python",
   "name": "python",
   "nbconvert_exporter": "python",
   "pygments_lexer": "ipython3",
   "version": "3.8.18"
  }
 },
 "nbformat": 4,
 "nbformat_minor": 2
}
